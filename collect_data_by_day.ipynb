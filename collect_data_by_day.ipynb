{
  "nbformat": 4,
  "nbformat_minor": 0,
  "metadata": {
    "colab": {
      "provenance": [],
      "authorship_tag": "ABX9TyPHJUXFHG6yOEO7x1VX5P2/",
      "include_colab_link": true
    },
    "kernelspec": {
      "name": "python3",
      "display_name": "Python 3"
    },
    "language_info": {
      "name": "python"
    }
  },
  "cells": [
    {
      "cell_type": "markdown",
      "metadata": {
        "id": "view-in-github",
        "colab_type": "text"
      },
      "source": [
        "<a href=\"https://colab.research.google.com/github/ReAlex1902/stock-trend-pred/blob/main/collect_data_by_day.ipynb\" target=\"_parent\"><img src=\"https://colab.research.google.com/assets/colab-badge.svg\" alt=\"Open In Colab\"/></a>"
      ]
    },
    {
      "cell_type": "markdown",
      "source": [
        "# Collect data for each day"
      ],
      "metadata": {
        "id": "YkaTOZLAMKZ5"
      }
    },
    {
      "cell_type": "code",
      "execution_count": 1,
      "metadata": {
        "colab": {
          "base_uri": "https://localhost:8080/"
        },
        "id": "9af9brf8MFDW",
        "outputId": "beb6dc91-347d-4b5f-d761-3f36140279c1"
      },
      "outputs": [
        {
          "output_type": "stream",
          "name": "stdout",
          "text": [
            "Mounted at /content/gdrive\n"
          ]
        }
      ],
      "source": [
        "from google.colab import drive\n",
        "drive.mount('/content/gdrive')"
      ]
    },
    {
      "cell_type": "code",
      "source": [
        "!cp /content/gdrive/Shareddrives/gdrive/datasets/thesis/msft_df.parquet /content\n",
        "!cp /content/gdrive/Shareddrives/gdrive/datasets/thesis/used-google-links.txt /content\n",
        "!cp -r /content/gdrive/Shareddrives/gdrive/datasets/thesis/msft-texts /content"
      ],
      "metadata": {
        "id": "W5w5e8ISMMyi"
      },
      "execution_count": 2,
      "outputs": []
    },
    {
      "cell_type": "code",
      "source": [
        "import os\n",
        "from datetime import datetime, timedelta\n",
        "\n",
        "input_folder = \"msft-texts\"\n",
        "output_folder = \"msft-texts-daily\"\n",
        "\n",
        "# Создаем папку для вывода, если она не существует\n",
        "if not os.path.exists(output_folder):\n",
        "    os.makedirs(output_folder)\n",
        "\n",
        "# Получаем список всех файлов в папке msft-texts\n",
        "files = os.listdir(input_folder)\n",
        "\n",
        "# Создаем словарь для хранения данных по дням\n",
        "daily_data = {}\n",
        "\n",
        "# Перебираем файлы\n",
        "for i, file_name in enumerate(files):\n",
        "    # Игнорируем файлы, не являющиеся текстовыми файлами\n",
        "    if not file_name.endswith(\".txt\"):\n",
        "        continue\n",
        "\n",
        "    # Извлекаем дату из названия файла\n",
        "    # date_str = file_name.split(\"-\")[-1].split(\".\")[0]\n",
        "    date_str = '-'.join(file_name.split('.')[-2].split('-')[-3:])\n",
        "    # file_date = datetime.strptime(date_str, '%Y-%m-%d').date()\n",
        "\n",
        "    # Открываем файл и читаем ID, заголовок и текст\n",
        "    with open(os.path.join(input_folder, file_name), 'r', encoding='utf-8') as file:\n",
        "        text_id = file.readline().strip()\n",
        "        title = file.readline().strip()\n",
        "        content = file.read().strip()\n",
        "\n",
        "    # Формируем запись по дню\n",
        "    # daily_entry = f\"ID: {text_id}\\nTitle: {title}\\nContent: {content}\\n\\n\"\n",
        "    daily_entry = f\"Title: {title}\\nContent: {content}\\n\\n\"\n",
        "\n",
        "    # Добавляем запись в словарь по соответствующей дате\n",
        "    # if file_date in daily_data:\n",
        "    #     daily_data[file_date] += daily_entry\n",
        "    #     print(file_date)\n",
        "    # else:\n",
        "    #     daily_data[file_date] = daily_entry\n",
        "    if date_str in daily_data:\n",
        "        daily_data[date_str] += daily_entry\n",
        "    else:\n",
        "        daily_data[date_str] = daily_entry\n",
        "\n",
        "\n",
        "start_date = datetime(2022, 9, 1).date()\n",
        "end_date = datetime(2023, 9, 30).date()\n",
        "\n",
        "current_date = start_date\n",
        "while current_date <= end_date:\n",
        "    if str(current_date) not in daily_data:\n",
        "        daily_data[str(current_date)] = \"\"\n",
        "\n",
        "    current_date += timedelta(days=1)\n",
        "\n",
        "\n",
        "# Сохраняем данные по дням в отдельные файлы\n",
        "for date, data in daily_data.items():\n",
        "    output_file_path = os.path.join(output_folder, f\"{date}.txt\")\n",
        "    with open(output_file_path, 'w', encoding='utf-8') as output_file:\n",
        "        output_file.write(data)\n",
        "\n",
        "print(\"Готово! Заголовки и тексты за каждый день сохранены в папку msft-texts-daily.\")"
      ],
      "metadata": {
        "colab": {
          "base_uri": "https://localhost:8080/"
        },
        "id": "_Az_RU2VMakT",
        "outputId": "d10996eb-79e9-4ddc-ae5f-d88c6d973486"
      },
      "execution_count": 38,
      "outputs": [
        {
          "output_type": "stream",
          "name": "stdout",
          "text": [
            "Готово! Заголовки и тексты за каждый день сохранены в папку msft-texts-daily.\n"
          ]
        }
      ]
    },
    {
      "cell_type": "code",
      "source": [
        "len(sorted(os.listdir('msft-texts-daily')))"
      ],
      "metadata": {
        "colab": {
          "base_uri": "https://localhost:8080/"
        },
        "id": "t1f4WgPXRea6",
        "outputId": "7ee9a7b8-ac96-4930-bfa5-8f6f9e84a42e"
      },
      "execution_count": 39,
      "outputs": [
        {
          "output_type": "execute_result",
          "data": {
            "text/plain": [
              "395"
            ]
          },
          "metadata": {},
          "execution_count": 39
        }
      ]
    },
    {
      "cell_type": "code",
      "source": [
        "!cp -r /content/msft-texts-daily /content/gdrive/Shareddrives/gdrive/datasets/thesis"
      ],
      "metadata": {
        "id": "jnIUNvg2PPPo"
      },
      "execution_count": 42,
      "outputs": []
    },
    {
      "cell_type": "code",
      "source": [],
      "metadata": {
        "id": "GNttcb4EPT-X"
      },
      "execution_count": 34,
      "outputs": []
    },
    {
      "cell_type": "code",
      "source": [],
      "metadata": {
        "id": "D3FpPPFQR8cU"
      },
      "execution_count": null,
      "outputs": []
    }
  ]
}